{
 "cells": [
  {
   "cell_type": "code",
   "execution_count": 1,
   "metadata": {},
   "outputs": [],
   "source": [
    "#String é uma sequência de blocos ocupando uma posição, as aspas delimitam o inicio e fim dos caracteres"
   ]
  },
  {
   "cell_type": "code",
   "execution_count": 17,
   "metadata": {},
   "outputs": [
    {
     "name": "stdout",
     "output_type": "stream",
     "text": [
      "Sidnir\n",
      "S\n",
      "r\n",
      "6\n",
      "i\n",
      "r\n"
     ]
    }
   ],
   "source": [
    "nome = \"Sidnir\"\n",
    "print(nome)\n",
    "print(nome[0])\n",
    "print(nome[-1])\n",
    "type(nome)\n",
    "print(len(nome))\n",
    "print(nome[1])\n",
    "print(nome[5])"
   ]
  },
  {
   "cell_type": "code",
   "execution_count": 21,
   "metadata": {},
   "outputs": [
    {
     "name": "stdout",
     "output_type": "stream",
     "text": [
      "Sid\n",
      "Sidnir\n",
      "nir\n"
     ]
    }
   ],
   "source": [
    "#Operações com String\n",
    "#Fatiamento\n",
    "print(nome[0:3])\n",
    "print(nome[:])\n",
    "print(nome[-3:])\n",
    "\n"
   ]
  },
  {
   "cell_type": "code",
   "execution_count": 36,
   "metadata": {},
   "outputs": [
    {
     "name": "stdout",
     "output_type": "stream",
     "text": [
      "Sidnir Ferreira\n",
      "python python python \n",
      "aaaaaaaaaa\n",
      "3.157\n",
      "3.16\n"
     ]
    }
   ],
   "source": [
    "#concatenação\n",
    "nome = 'Sidnir '\n",
    "sobrenome = 'Ferreira'\n",
    "nome_completo = nome + sobrenome\n",
    "print(nome_completo)\n",
    "linguagem = 'python '\n",
    "print(3 * linguagem)\n",
    "letra = 'a'\n",
    "print(10*letra)\n",
    "\n",
    "idade = 20\n",
    "nome = 'Maria'\n",
    "idade2 = 15\n",
    "'João tem %d anos e %s tem %d' % (idade,nome,idade2)\n",
    "media = 3.156584584\n",
    "print('%.3f'% media)\n",
    "print('%.2f'% media)"
   ]
  },
  {
   "cell_type": "code",
   "execution_count": 38,
   "metadata": {},
   "outputs": [
    {
     "name": "stdout",
     "output_type": "stream",
     "text": [
      "Sidnir\n",
      "1261255592456\n",
      "1261255592456\n"
     ]
    }
   ],
   "source": [
    "nome = 'Sidnir'\n",
    "nome2 = nome\n",
    "print(nome2)\n",
    "print(id(nome))\n",
    "print(id(nome2))"
   ]
  }
 ],
 "metadata": {
  "kernelspec": {
   "display_name": "Python 3",
   "language": "python",
   "name": "python3"
  },
  "language_info": {
   "codemirror_mode": {
    "name": "ipython",
    "version": 3
   },
   "file_extension": ".py",
   "mimetype": "text/x-python",
   "name": "python",
   "nbconvert_exporter": "python",
   "pygments_lexer": "ipython3",
   "version": "3.7.1"
  }
 },
 "nbformat": 4,
 "nbformat_minor": 2
}
