{
  "nbformat": 4,
  "nbformat_minor": 0,
  "metadata": {
    "colab": {
      "name": "BasicPython.ipynb",
      "provenance": [],
      "collapsed_sections": []
    },
    "kernelspec": {
      "name": "python3",
      "display_name": "Python 3"
    }
  },
  "cells": [
    {
      "cell_type": "code",
      "metadata": {
        "id": "MTQcs8jNG6iJ",
        "colab_type": "code",
        "outputId": "90048ca1-ca6d-4601-cc3e-5a2208616890",
        "colab": {
          "base_uri": "https://localhost:8080/",
          "height": 68
        }
      },
      "source": [
        "#Entrada de Dados para manipulaçã\n",
        "idade = input(\"Digite sua idade\")\n",
        "print(idade)\n",
        "type(idade)\n",
        "\n"
      ],
      "execution_count": 0,
      "outputs": [
        {
          "output_type": "stream",
          "text": [
            "Digite sua idade22\n",
            "22\n"
          ],
          "name": "stdout"
        },
        {
          "output_type": "execute_result",
          "data": {
            "text/plain": [
              "str"
            ]
          },
          "metadata": {
            "tags": []
          },
          "execution_count": 2
        }
      ]
    },
    {
      "cell_type": "code",
      "metadata": {
        "id": "Qnyie0TwqTc9",
        "colab_type": "code",
        "outputId": "b46918ba-39c4-4578-e0eb-264f11a14821",
        "colab": {
          "base_uri": "https://localhost:8080/",
          "height": 85
        }
      },
      "source": [
        "#Não é possível fazer operações a principio\n",
        "#Para isso é preciso converter para inteiro\n",
        "idade = int(input(\"Digite sua idade: \"))\n",
        "print(idade)\n",
        "idade=idade+1\n",
        "print(idade)\n",
        "type(idade)"
      ],
      "execution_count": 0,
      "outputs": [
        {
          "output_type": "stream",
          "text": [
            "Digite sua idade: 22\n",
            "22\n",
            "23\n"
          ],
          "name": "stdout"
        },
        {
          "output_type": "execute_result",
          "data": {
            "text/plain": [
              "int"
            ]
          },
          "metadata": {
            "tags": []
          },
          "execution_count": 12
        }
      ]
    },
    {
      "cell_type": "code",
      "metadata": {
        "id": "5dqiCuibrHAE",
        "colab_type": "code",
        "outputId": "8f984049-d07b-414f-91f2-53ca0cbd1d0c",
        "colab": {
          "base_uri": "https://localhost:8080/",
          "height": 68
        }
      },
      "source": [
        "var_pi = float(input(\"Digite o valor de pi: \"))\n",
        "print(var_pi)\n",
        "type(var_pi)"
      ],
      "execution_count": 0,
      "outputs": [
        {
          "output_type": "stream",
          "text": [
            "Digite o valor de pi: 3.1415\n",
            "3.1415\n"
          ],
          "name": "stdout"
        },
        {
          "output_type": "execute_result",
          "data": {
            "text/plain": [
              "float"
            ]
          },
          "metadata": {
            "tags": []
          },
          "execution_count": 13
        }
      ]
    },
    {
      "cell_type": "code",
      "metadata": {
        "id": "e5ZmmbZbriUS",
        "colab_type": "code",
        "outputId": "88202683-bb52-4f72-bad3-b5ad0911d135",
        "colab": {
          "base_uri": "https://localhost:8080/",
          "height": 51
        }
      },
      "source": [
        "#Condições\n",
        "idade = int(input(\"Digite sua idade: \"))\n",
        "if idade >= 18:\n",
        "  print(\"Maior de idade\")\n",
        "else:\n",
        "  print(\"menor de idade\")"
      ],
      "execution_count": 0,
      "outputs": [
        {
          "output_type": "stream",
          "text": [
            "Digite sua idade: 10\n",
            "menor de idade\n"
          ],
          "name": "stdout"
        }
      ]
    },
    {
      "cell_type": "code",
      "metadata": {
        "id": "H0HxCAK0smn2",
        "colab_type": "code",
        "outputId": "0075cbb5-e6fb-4387-bdbe-809e8bb48f48",
        "colab": {
          "base_uri": "https://localhost:8080/",
          "height": 34
        }
      },
      "source": [
        "idade = 10\n",
        "if idade >= 18:\n",
        "  if idade >= 60:\n",
        "    print(\"idoso\")\n",
        "  else:\n",
        "    print(\"adulto\")\n",
        "else:\n",
        "  print('menor de idade')"
      ],
      "execution_count": 0,
      "outputs": [
        {
          "output_type": "stream",
          "text": [
            "idoso\n"
          ],
          "name": "stdout"
        }
      ]
    },
    {
      "cell_type": "code",
      "metadata": {
        "id": "E2Olfic8thls",
        "colab_type": "code",
        "outputId": "73710cd8-5bbb-4afa-b745-dd0d5fa3da01",
        "colab": {
          "base_uri": "https://localhost:8080/",
          "height": 34
        }
      },
      "source": [
        "#elif => else if\n",
        "opcao = 2\n",
        "if opcao == 1:\n",
        "  preco = 15\n",
        "elif opcao == 2:\n",
        "  preco = 20\n",
        "elif opcao == 4:\n",
        "  preco = 40\n",
        "else:\n",
        "  preco = 0\n",
        "print(preco)"
      ],
      "execution_count": 0,
      "outputs": [
        {
          "output_type": "stream",
          "text": [
            "20\n"
          ],
          "name": "stdout"
        }
      ]
    },
    {
      "cell_type": "code",
      "metadata": {
        "id": "3QQEfXJsubeD",
        "colab_type": "code",
        "outputId": "2e0d6856-f48e-4c1e-b395-ef6851813d12",
        "colab": {
          "base_uri": "https://localhost:8080/",
          "height": 54
        }
      },
      "source": [
        "#Repetições\n",
        "cont = 1\n",
        "while cont <= 100:\n",
        "  if cont % 2 == 0:\n",
        "    print(cont, end=' ')\n",
        "  cont += 1\n",
        "  "
      ],
      "execution_count": 0,
      "outputs": [
        {
          "output_type": "stream",
          "text": [
            "2 4 6 8 10 12 14 16 18 20 22 24 26 28 30 32 34 36 38 40 42 44 46 48 50 52 54 56 58 60 62 64 66 68 70 72 74 76 78 80 82 84 86 88 90 92 94 96 98 100 "
          ],
          "name": "stdout"
        }
      ]
    },
    {
      "cell_type": "code",
      "metadata": {
        "id": "t9p9dwTLqBKk",
        "colab_type": "code",
        "outputId": "9ade37b7-c986-48a8-c9c3-84f2a5bb0ae3",
        "colab": {
          "base_uri": "https://localhost:8080/",
          "height": 85
        }
      },
      "source": [
        "#Listas \n",
        "lista = [2, 4, 3.14, 'lista']\n",
        "print(len(lista))\n",
        "print(lista)\n",
        "print(lista[0])\n",
        "print(lista[-1]) "
      ],
      "execution_count": 0,
      "outputs": [
        {
          "output_type": "stream",
          "text": [
            "4\n",
            "[2, 4, 3.14, 'lista']\n",
            "2\n",
            "lista\n"
          ],
          "name": "stdout"
        }
      ]
    },
    {
      "cell_type": "code",
      "metadata": {
        "id": "zkM4oUvSzS5u",
        "colab_type": "code",
        "outputId": "3c6c5e58-b726-4b5a-c675-ac8970ffb66a",
        "colab": {
          "base_uri": "https://localhost:8080/",
          "height": 68
        }
      },
      "source": [
        "#Estrutura de repetição for\n",
        "lista = [1,2,3,4]\n",
        "for e in lista:\n",
        "  print(e)\n",
        "  break\n",
        "  \n",
        "lista = [1, 20, 3, 4]\n",
        "busca = 20\n",
        "for e in lista:\n",
        "  if e == busca:\n",
        "    print('Encontrou')\n",
        "    break  \n",
        "  \n",
        "for i in range(11):\n",
        "  print(i, end=' ')\n"
      ],
      "execution_count": 0,
      "outputs": [
        {
          "output_type": "stream",
          "text": [
            "1\n",
            "Encontrou\n",
            "0 1 2 3 4 5 6 7 8 9 10 2 4 6 8 10 "
          ],
          "name": "stdout"
        }
      ]
    },
    {
      "cell_type": "code",
      "metadata": {
        "id": "MiOBRdp2z_vc",
        "colab_type": "code",
        "outputId": "a9e95781-f308-46db-f48e-81fb0deece29",
        "colab": {
          "base_uri": "https://localhost:8080/",
          "height": 34
        }
      },
      "source": [
        "for par in range(2, 11, 2):\n",
        "  print(par, end=' ')\n",
        "\n"
      ],
      "execution_count": 0,
      "outputs": [
        {
          "output_type": "stream",
          "text": [
            "2 4 6 8 10 p y t h o n "
          ],
          "name": "stdout"
        }
      ]
    },
    {
      "cell_type": "code",
      "metadata": {
        "id": "xW8rwqxe2RqI",
        "colab_type": "code",
        "outputId": "398729d6-489a-4eef-9a14-a539ccdc306a",
        "colab": {
          "base_uri": "https://localhost:8080/",
          "height": 34
        }
      },
      "source": [
        "nome = 'python' \n",
        "for letra in nome:\n",
        "  print(letra, end=' ')"
      ],
      "execution_count": 0,
      "outputs": [
        {
          "output_type": "stream",
          "text": [
            "p y t h o n "
          ],
          "name": "stdout"
        }
      ]
    },
    {
      "cell_type": "code",
      "metadata": {
        "id": "v0jWyrZL2S4g",
        "colab_type": "code",
        "outputId": "98417229-6466-4293-8f0b-a4763efdcdcd",
        "colab": {
          "base_uri": "https://localhost:8080/",
          "height": 34
        }
      },
      "source": [
        "#Tuplas Objeto imutável\n",
        "\n",
        "tupla = (1,2,3)\n",
        "print(tupla)"
      ],
      "execution_count": 0,
      "outputs": [
        {
          "output_type": "stream",
          "text": [
            "(1, 2, 3)\n"
          ],
          "name": "stdout"
        }
      ]
    },
    {
      "cell_type": "code",
      "metadata": {
        "id": "1suKBgAL3Nan",
        "colab_type": "code",
        "outputId": "2b6afbca-0aeb-4360-84ee-5f6426897f7c",
        "colab": {
          "base_uri": "https://localhost:8080/",
          "height": 34
        }
      },
      "source": [
        "#Conjuntos\n",
        "s = set()\n",
        "type(s)\n",
        "s.add(10)\n",
        "s.add(20)\n",
        "s.add(30)\n",
        "s.add(10)\n",
        "print(s)"
      ],
      "execution_count": 0,
      "outputs": [
        {
          "output_type": "stream",
          "text": [
            "{10, 20, 30}\n"
          ],
          "name": "stdout"
        }
      ]
    },
    {
      "cell_type": "code",
      "metadata": {
        "id": "bu5z26-G3niF",
        "colab_type": "code",
        "outputId": "e727a919-b7d7-4442-ca16-29c143fde690",
        "colab": {
          "base_uri": "https://localhost:8080/",
          "height": 34
        }
      },
      "source": [
        "#União\n",
        "s1 = {1,2,3,4}\n",
        "s2 = {3,4,5,6}\n",
        "type(s1)\n",
        "uniao = s1.union(s2)\n",
        "print(uniao)\n"
      ],
      "execution_count": 0,
      "outputs": [
        {
          "output_type": "stream",
          "text": [
            "{1, 2, 3, 4, 5, 6}\n"
          ],
          "name": "stdout"
        }
      ]
    },
    {
      "cell_type": "code",
      "metadata": {
        "id": "475bFAT6388V",
        "colab_type": "code",
        "outputId": "3bfc22d1-0126-43d9-fbbd-dd211f045079",
        "colab": {
          "base_uri": "https://localhost:8080/",
          "height": 34
        }
      },
      "source": [
        "#interseção\n",
        "s1 = {1,2,3,4}\n",
        "s2 = {3,4,5,6}\n",
        "inter = s1.intersection(s2)\n",
        "print(inter)"
      ],
      "execution_count": 0,
      "outputs": [
        {
          "output_type": "stream",
          "text": [
            "{3, 4}\n"
          ],
          "name": "stdout"
        }
      ]
    },
    {
      "cell_type": "code",
      "metadata": {
        "id": "z-xr5hAV4CRI",
        "colab_type": "code",
        "outputId": "61d87f2f-557f-4895-c462-8219ac723a5f",
        "colab": {
          "base_uri": "https://localhost:8080/",
          "height": 34
        }
      },
      "source": [
        "#Diferença\n",
        "s1 = {1,2,3,4}\n",
        "s2 = {3,4,5,6}\n",
        "diff = s1.difference(s2)\n",
        "print(diff)"
      ],
      "execution_count": 0,
      "outputs": [
        {
          "output_type": "stream",
          "text": [
            "{1, 2}\n"
          ],
          "name": "stdout"
        }
      ]
    },
    {
      "cell_type": "code",
      "metadata": {
        "id": "AFTnt8Fu4mu_",
        "colab_type": "code",
        "outputId": "7196575a-54cb-44b8-b911-8eb09e015dfd",
        "colab": {
          "base_uri": "https://localhost:8080/",
          "height": 51
        }
      },
      "source": [
        "#Pegando elementos não repetidos com set\n",
        "lista = [1,2,2,2,3,3,4,5,6,7,7,7]\n",
        "s = set(lista)\n",
        "print(lista)\n",
        "print(s)"
      ],
      "execution_count": 0,
      "outputs": [
        {
          "output_type": "stream",
          "text": [
            "[1, 2, 2, 2, 3, 3, 4, 5, 6, 7, 7, 7]\n",
            "{1, 2, 3, 4, 5, 6, 7}\n"
          ],
          "name": "stdout"
        }
      ]
    },
    {
      "cell_type": "code",
      "metadata": {
        "id": "UW-xCozJ4251",
        "colab_type": "code",
        "outputId": "101c17e7-169b-419f-fe1a-8a20df03a932",
        "colab": {
          "base_uri": "https://localhost:8080/",
          "height": 51
        }
      },
      "source": [
        "#dicionarios - \n",
        "d = {'marcos':28, 'maria':20, 'pedro':18}\n",
        "print(d)\n",
        "print(d['marcos'])"
      ],
      "execution_count": 0,
      "outputs": [
        {
          "output_type": "stream",
          "text": [
            "{'marcos': 28, 'maria': 20, 'pedro': 18}\n",
            "28\n"
          ],
          "name": "stdout"
        }
      ]
    },
    {
      "cell_type": "code",
      "metadata": {
        "id": "lyn7Mekv-Uj8",
        "colab_type": "code",
        "outputId": "d96b2ae3-1134-46c3-e32d-70861a9b52b9",
        "colab": {
          "base_uri": "https://localhost:8080/",
          "height": 119
        }
      },
      "source": [
        "#Funções\n",
        "def soma(n1,n2):\n",
        "  return n1 + n2\n",
        "\n",
        "print(soma(1,2))\n",
        "print(soma(4,2))\n",
        "\n",
        "def imprimir():\n",
        "  print(\"Função de python\")\n",
        "  \n",
        "imprimir()  \n",
        "\n",
        "\n",
        "def par(x):\n",
        "  return x % 2 == 0\n",
        "\n",
        "\n",
        "print(par(2))\n",
        "print(par(3))\n",
        "\n",
        "def foo(*args):\n",
        "  return sum(*args)\n",
        "\n",
        "print(foo([1,2,3,4,5]))\n",
        "\n"
      ],
      "execution_count": 0,
      "outputs": [
        {
          "output_type": "stream",
          "text": [
            "3\n",
            "6\n",
            "Função de python\n",
            "True\n",
            "False\n",
            "15\n"
          ],
          "name": "stdout"
        }
      ]
    },
    {
      "cell_type": "code",
      "metadata": {
        "id": "0LEsPy7-QSg6",
        "colab_type": "code",
        "outputId": "e855021b-7af8-428b-ec54-487ae6ff7342",
        "colab": {
          "base_uri": "https://localhost:8080/",
          "height": 68
        }
      },
      "source": [
        "#Intro Orientação a Objetos (classes e objetos)\n",
        "#Classe = definição de um novo tipo de dados, associa dados de operação em uma só estrutura\n",
        "#objetos = uma variável cujo tipo é uma classe, a instância da classe\n",
        "\n",
        "class Pessoa:\n",
        "  def __init__(self, nome, idade):\n",
        "    self.nome = nome\n",
        "    self.idade =idade\n",
        "    \n",
        "  def imprime_nome(self):\n",
        "    print(self.nome)\n",
        "  \n",
        "  \n",
        "p = Pessoa('marcos', 28)    \n",
        "print(p.nome)\n",
        "print(p.idade)\n",
        "p.imprime_nome()"
      ],
      "execution_count": 0,
      "outputs": [
        {
          "output_type": "stream",
          "text": [
            "marcos\n",
            "28\n",
            "marcos\n"
          ],
          "name": "stdout"
        }
      ]
    },
    {
      "cell_type": "code",
      "metadata": {
        "id": "WD-cP0Pt093m",
        "colab_type": "code",
        "outputId": "f8dc76b3-ad6f-42ae-b429-d59c958cf309",
        "colab": {
          "base_uri": "https://localhost:8080/",
          "height": 51
        }
      },
      "source": [
        "class Conta:\n",
        "  def __init__(self, cliente, numero):\n",
        "    self.cliente = cliente\n",
        "    self.numero = numero\n",
        "\n",
        "    \n",
        "class ContaEspecial(Conta):\n",
        "  def __init__(self, cliente, numero, limite=0):\n",
        "    Conta.__init__(self, cliente, numero)\n",
        "    self.limite = limite\n",
        "    \n",
        "conta = ContaEspecial('marcos', '1234', 100)\n",
        "print(conta.limite)\n",
        "print(conta.numero)"
      ],
      "execution_count": 0,
      "outputs": [
        {
          "output_type": "stream",
          "text": [
            "100\n",
            "1234\n"
          ],
          "name": "stdout"
        }
      ]
    },
    {
      "cell_type": "code",
      "metadata": {
        "id": "jvI3O-_r25Jc",
        "colab_type": "code",
        "colab": {}
      },
      "source": [
        "#Programação Funcional\n"
      ],
      "execution_count": 0,
      "outputs": []
    }
  ]
}